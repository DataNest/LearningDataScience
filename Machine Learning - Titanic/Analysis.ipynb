{
 "cells": [
  {
   "cell_type": "markdown",
   "metadata": {},
   "source": [
    "# Kaggle competition 1: Titanic\n",
    "\n",
    "Okay so I'm going to use linear regression with the goal of predicting who perished in the Titanic. I have two datasets, a train dataset and a test dataset. \n",
    "\n",
    "Here's how I will approach the problem: \n",
    "\n",
    "I'll first combine both the training and \n",
    "\n",
    "0. Setup \n",
    "1. Preprocessing\n",
    "    1. Non Numerical Data\n",
    "        1. Categorical Data\n",
    "        2. Extracting Data from ticket numbers\n",
    "    2. Handling null cells\n",
    "    3. Feature normalization (To be improved)\n",
    "    4. Splitting into training and cross validation datasets\n",
    "2. Logistic Regression \n",
    "    1. Implementing a logistic regression model \n",
    "    2. Parameter Optimization \n",
    "3. SVM (with a Gaussian Kernel) \n",
    "    1. Implementing SVM\n",
    "    2. Parameter Optimization \n",
    "4. Making a submission file\n",
    "    1. Deciding on which method to use\n",
    "    2. Making the return file"
   ]
  },
  {
   "cell_type": "markdown",
   "metadata": {
    "collapsed": true
   },
   "source": [
    "## 0. Installing the necessary modules "
   ]
  },
  {
   "cell_type": "code",
   "execution_count": 1,
   "metadata": {
    "collapsed": false
   },
   "outputs": [],
   "source": [
    "%matplotlib inline \n",
    "\n",
    "import numpy as np \n",
    "import pandas as pd \n",
    "import matplotlib.pyplot as p\n",
    "\n",
    "#Using Scikit-Learn for the machine learning algorithms\n",
    "from sklearn import linear_model \n",
    "from sklearn import preprocessing\n",
    "from sklearn import metrics\n",
    "from sklearn import svm"
   ]
  },
  {
   "cell_type": "markdown",
   "metadata": {},
   "source": [
    "## 0.1 Downloading the data"
   ]
  },
  {
   "cell_type": "code",
   "execution_count": 2,
   "metadata": {
    "collapsed": false
   },
   "outputs": [
    {
     "data": {
      "text/html": [
       "<div>\n",
       "<style>\n",
       "    .dataframe thead tr:only-child th {\n",
       "        text-align: right;\n",
       "    }\n",
       "\n",
       "    .dataframe thead th {\n",
       "        text-align: left;\n",
       "    }\n",
       "\n",
       "    .dataframe tbody tr th {\n",
       "        vertical-align: top;\n",
       "    }\n",
       "</style>\n",
       "<table border=\"1\" class=\"dataframe\">\n",
       "  <thead>\n",
       "    <tr style=\"text-align: right;\">\n",
       "      <th></th>\n",
       "      <th>PassengerId</th>\n",
       "      <th>Survived</th>\n",
       "      <th>Pclass</th>\n",
       "      <th>Name</th>\n",
       "      <th>Sex</th>\n",
       "      <th>Age</th>\n",
       "      <th>SibSp</th>\n",
       "      <th>Parch</th>\n",
       "      <th>Ticket</th>\n",
       "      <th>Fare</th>\n",
       "      <th>Cabin</th>\n",
       "      <th>Embarked</th>\n",
       "    </tr>\n",
       "  </thead>\n",
       "  <tbody>\n",
       "    <tr>\n",
       "      <th>0</th>\n",
       "      <td>1</td>\n",
       "      <td>0</td>\n",
       "      <td>3</td>\n",
       "      <td>Braund, Mr. Owen Harris</td>\n",
       "      <td>male</td>\n",
       "      <td>22.0</td>\n",
       "      <td>1</td>\n",
       "      <td>0</td>\n",
       "      <td>A/5 21171</td>\n",
       "      <td>7.2500</td>\n",
       "      <td>NaN</td>\n",
       "      <td>S</td>\n",
       "    </tr>\n",
       "    <tr>\n",
       "      <th>1</th>\n",
       "      <td>2</td>\n",
       "      <td>1</td>\n",
       "      <td>1</td>\n",
       "      <td>Cumings, Mrs. John Bradley (Florence Briggs Th...</td>\n",
       "      <td>female</td>\n",
       "      <td>38.0</td>\n",
       "      <td>1</td>\n",
       "      <td>0</td>\n",
       "      <td>PC 17599</td>\n",
       "      <td>71.2833</td>\n",
       "      <td>C85</td>\n",
       "      <td>C</td>\n",
       "    </tr>\n",
       "    <tr>\n",
       "      <th>2</th>\n",
       "      <td>3</td>\n",
       "      <td>1</td>\n",
       "      <td>3</td>\n",
       "      <td>Heikkinen, Miss. Laina</td>\n",
       "      <td>female</td>\n",
       "      <td>26.0</td>\n",
       "      <td>0</td>\n",
       "      <td>0</td>\n",
       "      <td>STON/O2. 3101282</td>\n",
       "      <td>7.9250</td>\n",
       "      <td>NaN</td>\n",
       "      <td>S</td>\n",
       "    </tr>\n",
       "    <tr>\n",
       "      <th>3</th>\n",
       "      <td>4</td>\n",
       "      <td>1</td>\n",
       "      <td>1</td>\n",
       "      <td>Futrelle, Mrs. Jacques Heath (Lily May Peel)</td>\n",
       "      <td>female</td>\n",
       "      <td>35.0</td>\n",
       "      <td>1</td>\n",
       "      <td>0</td>\n",
       "      <td>113803</td>\n",
       "      <td>53.1000</td>\n",
       "      <td>C123</td>\n",
       "      <td>S</td>\n",
       "    </tr>\n",
       "    <tr>\n",
       "      <th>4</th>\n",
       "      <td>5</td>\n",
       "      <td>0</td>\n",
       "      <td>3</td>\n",
       "      <td>Allen, Mr. William Henry</td>\n",
       "      <td>male</td>\n",
       "      <td>35.0</td>\n",
       "      <td>0</td>\n",
       "      <td>0</td>\n",
       "      <td>373450</td>\n",
       "      <td>8.0500</td>\n",
       "      <td>NaN</td>\n",
       "      <td>S</td>\n",
       "    </tr>\n",
       "  </tbody>\n",
       "</table>\n",
       "</div>"
      ],
      "text/plain": [
       "   PassengerId  Survived  Pclass  \\\n",
       "0            1         0       3   \n",
       "1            2         1       1   \n",
       "2            3         1       3   \n",
       "3            4         1       1   \n",
       "4            5         0       3   \n",
       "\n",
       "                                                Name     Sex   Age  SibSp  \\\n",
       "0                            Braund, Mr. Owen Harris    male  22.0      1   \n",
       "1  Cumings, Mrs. John Bradley (Florence Briggs Th...  female  38.0      1   \n",
       "2                             Heikkinen, Miss. Laina  female  26.0      0   \n",
       "3       Futrelle, Mrs. Jacques Heath (Lily May Peel)  female  35.0      1   \n",
       "4                           Allen, Mr. William Henry    male  35.0      0   \n",
       "\n",
       "   Parch            Ticket     Fare Cabin Embarked  \n",
       "0      0         A/5 21171   7.2500   NaN        S  \n",
       "1      0          PC 17599  71.2833   C85        C  \n",
       "2      0  STON/O2. 3101282   7.9250   NaN        S  \n",
       "3      0            113803  53.1000  C123        S  \n",
       "4      0            373450   8.0500   NaN        S  "
      ]
     },
     "execution_count": 2,
     "metadata": {},
     "output_type": "execute_result"
    }
   ],
   "source": [
    "train = pd.read_csv(\"train.csv\") #contains whether or not the passengers survived\n",
    "test = pd.read_csv(\"test.csv\") # does not; this is to be submitted to Kaggle \n",
    "full = train.append( test , ignore_index = True ) #appends, ignoring the Survived column \n",
    "train.head() #hello, data! "
   ]
  },
  {
   "cell_type": "markdown",
   "metadata": {},
   "source": [
    "## 1. Preprocessing\n",
    "### 1.1 Handling Categories\n",
    "So, from the above graph, its clear that the following items are categorized instead of given numerical values: \n",
    "1. Name\n",
    "2. Sex\n",
    "3. Ticket \n",
    "4. Cabin \n",
    "5. Embarked\n",
    "\n",
    "In order to do a run quickly, I'm going to clean up the 2 and 5th items. I'm also going to clean up the tickets, but this will be slightly more involved.\n",
    "\n",
    "I'm also going to do everything to the train and test datasets, since my ultimate goal is to make predictions on the test dataset. "
   ]
  },
  {
   "cell_type": "markdown",
   "metadata": {},
   "source": [
    "#### 1.1.1 The Sex and Embarked Columns"
   ]
  },
  {
   "cell_type": "code",
   "execution_count": 3,
   "metadata": {
    "collapsed": false
   },
   "outputs": [],
   "source": [
    "train[\"Embarked\"].replace(to_replace = ['C','S','Q'], value = [0.3,0.6,0.9], inplace=True);\n",
    "train[\"Sex\"].replace(to_replace=['male', 'female'], value = [0,1], inplace=True);\n",
    "\n",
    "test[\"Embarked\"].replace(to_replace = ['C','S','Q'], value = [0.3,0.6,0.9] ,inplace=True );\n",
    "test[\"Sex\"].replace(to_replace=['male', 'female'], value = [0,1],inplace=True );"
   ]
  },
  {
   "cell_type": "markdown",
   "metadata": {},
   "source": [
    "#### 1.1.2 The Ticket Column\n",
    "The ticket numbers can be split into two parts: \n",
    "1. The prefixes (which are optional) \n",
    "2. The numbers \n",
    "\n",
    "Because the prefixes aren't present in the entire dataset, and are heavily repeated, they are less likely to provide information than the ticket numbers, so I'm just going to extract those. "
   ]
  },
  {
   "cell_type": "code",
   "execution_count": 4,
   "metadata": {
    "collapsed": false
   },
   "outputs": [
    {
     "data": {
      "text/html": [
       "<div>\n",
       "<style>\n",
       "    .dataframe thead tr:only-child th {\n",
       "        text-align: right;\n",
       "    }\n",
       "\n",
       "    .dataframe thead th {\n",
       "        text-align: left;\n",
       "    }\n",
       "\n",
       "    .dataframe tbody tr th {\n",
       "        vertical-align: top;\n",
       "    }\n",
       "</style>\n",
       "<table border=\"1\" class=\"dataframe\">\n",
       "  <thead>\n",
       "    <tr style=\"text-align: right;\">\n",
       "      <th></th>\n",
       "      <th>PassengerId</th>\n",
       "      <th>Survived</th>\n",
       "      <th>Pclass</th>\n",
       "      <th>Name</th>\n",
       "      <th>Sex</th>\n",
       "      <th>Age</th>\n",
       "      <th>SibSp</th>\n",
       "      <th>Parch</th>\n",
       "      <th>Ticket</th>\n",
       "      <th>Fare</th>\n",
       "      <th>Cabin</th>\n",
       "      <th>Embarked</th>\n",
       "      <th>StringTicketsSplit</th>\n",
       "    </tr>\n",
       "  </thead>\n",
       "  <tbody>\n",
       "    <tr>\n",
       "      <th>0</th>\n",
       "      <td>1</td>\n",
       "      <td>0</td>\n",
       "      <td>3</td>\n",
       "      <td>Braund, Mr. Owen Harris</td>\n",
       "      <td>0</td>\n",
       "      <td>22.0</td>\n",
       "      <td>1</td>\n",
       "      <td>0</td>\n",
       "      <td>A/5 21171</td>\n",
       "      <td>7.2500</td>\n",
       "      <td>NaN</td>\n",
       "      <td>0.6</td>\n",
       "      <td>21171.0</td>\n",
       "    </tr>\n",
       "    <tr>\n",
       "      <th>1</th>\n",
       "      <td>2</td>\n",
       "      <td>1</td>\n",
       "      <td>1</td>\n",
       "      <td>Cumings, Mrs. John Bradley (Florence Briggs Th...</td>\n",
       "      <td>1</td>\n",
       "      <td>38.0</td>\n",
       "      <td>1</td>\n",
       "      <td>0</td>\n",
       "      <td>PC 17599</td>\n",
       "      <td>71.2833</td>\n",
       "      <td>C85</td>\n",
       "      <td>0.3</td>\n",
       "      <td>17599.0</td>\n",
       "    </tr>\n",
       "    <tr>\n",
       "      <th>2</th>\n",
       "      <td>3</td>\n",
       "      <td>1</td>\n",
       "      <td>3</td>\n",
       "      <td>Heikkinen, Miss. Laina</td>\n",
       "      <td>1</td>\n",
       "      <td>26.0</td>\n",
       "      <td>0</td>\n",
       "      <td>0</td>\n",
       "      <td>STON/O2. 3101282</td>\n",
       "      <td>7.9250</td>\n",
       "      <td>NaN</td>\n",
       "      <td>0.6</td>\n",
       "      <td>3101282.0</td>\n",
       "    </tr>\n",
       "    <tr>\n",
       "      <th>3</th>\n",
       "      <td>4</td>\n",
       "      <td>1</td>\n",
       "      <td>1</td>\n",
       "      <td>Futrelle, Mrs. Jacques Heath (Lily May Peel)</td>\n",
       "      <td>1</td>\n",
       "      <td>35.0</td>\n",
       "      <td>1</td>\n",
       "      <td>0</td>\n",
       "      <td>113803</td>\n",
       "      <td>53.1000</td>\n",
       "      <td>C123</td>\n",
       "      <td>0.6</td>\n",
       "      <td>113803.0</td>\n",
       "    </tr>\n",
       "    <tr>\n",
       "      <th>4</th>\n",
       "      <td>5</td>\n",
       "      <td>0</td>\n",
       "      <td>3</td>\n",
       "      <td>Allen, Mr. William Henry</td>\n",
       "      <td>0</td>\n",
       "      <td>35.0</td>\n",
       "      <td>0</td>\n",
       "      <td>0</td>\n",
       "      <td>373450</td>\n",
       "      <td>8.0500</td>\n",
       "      <td>NaN</td>\n",
       "      <td>0.6</td>\n",
       "      <td>373450.0</td>\n",
       "    </tr>\n",
       "  </tbody>\n",
       "</table>\n",
       "</div>"
      ],
      "text/plain": [
       "   PassengerId  Survived  Pclass  \\\n",
       "0            1         0       3   \n",
       "1            2         1       1   \n",
       "2            3         1       3   \n",
       "3            4         1       1   \n",
       "4            5         0       3   \n",
       "\n",
       "                                                Name  Sex   Age  SibSp  Parch  \\\n",
       "0                            Braund, Mr. Owen Harris    0  22.0      1      0   \n",
       "1  Cumings, Mrs. John Bradley (Florence Briggs Th...    1  38.0      1      0   \n",
       "2                             Heikkinen, Miss. Laina    1  26.0      0      0   \n",
       "3       Futrelle, Mrs. Jacques Heath (Lily May Peel)    1  35.0      1      0   \n",
       "4                           Allen, Mr. William Henry    0  35.0      0      0   \n",
       "\n",
       "             Ticket     Fare Cabin  Embarked  StringTicketsSplit  \n",
       "0         A/5 21171   7.2500   NaN       0.6             21171.0  \n",
       "1          PC 17599  71.2833   C85       0.3             17599.0  \n",
       "2  STON/O2. 3101282   7.9250   NaN       0.6           3101282.0  \n",
       "3            113803  53.1000  C123       0.6            113803.0  \n",
       "4            373450   8.0500   NaN       0.6            373450.0  "
      ]
     },
     "execution_count": 4,
     "metadata": {},
     "output_type": "execute_result"
    }
   ],
   "source": [
    "train[\"StringTickets\"] = train[\"Ticket\"].astype(str)\n",
    "train[\"StringTicketsSplit\"] = train.StringTickets.str.split()\n",
    "train.StringTicketsSplit = train.StringTicketsSplit.apply(lambda x: x[-1])\n",
    "train.StringTicketsSplit = pd.to_numeric(train.StringTicketsSplit, errors='coerce', downcast = 'integer')\n",
    "del train[\"StringTickets\"] #This just cleans up an unnecessary column \n",
    "\n",
    "#And, for the test dataset too\n",
    "test[\"StringTickets\"] = test[\"Ticket\"].astype(str)\n",
    "test[\"StringTicketsSplit\"] = test.StringTickets.str.split()\n",
    "test.StringTicketsSplit = test.StringTicketsSplit.apply(lambda x: x[-1])\n",
    "test.StringTicketsSplit = pd.to_numeric(test.StringTicketsSplit)\n",
    "del test[\"StringTickets\"]\n",
    "train.head()"
   ]
  },
  {
   "cell_type": "markdown",
   "metadata": {},
   "source": [
    "### 1.2 Handling null cells \n",
    "\n",
    "The scikit method I'm going to be using doesn't like null cells in the input dataset. In order to best figure out how to approach these null cells, I'll need to plot them to get some idea of exacly what is missing. "
   ]
  },
  {
   "cell_type": "code",
   "execution_count": 5,
   "metadata": {
    "collapsed": false
   },
   "outputs": [
    {
     "data": {
      "text/plain": [
       "(PassengerId             0\n",
       " Survived                0\n",
       " Pclass                  0\n",
       " Name                    0\n",
       " Sex                     0\n",
       " Age                   177\n",
       " SibSp                   0\n",
       " Parch                   0\n",
       " Ticket                  0\n",
       " Fare                    0\n",
       " Cabin                 687\n",
       " Embarked                2\n",
       " StringTicketsSplit      4\n",
       " dtype: int64, PassengerId             0\n",
       " Pclass                  0\n",
       " Name                    0\n",
       " Sex                     0\n",
       " Age                    86\n",
       " SibSp                   0\n",
       " Parch                   0\n",
       " Ticket                  0\n",
       " Fare                    1\n",
       " Cabin                 327\n",
       " Embarked                0\n",
       " StringTicketsSplit      0\n",
       " dtype: int64)"
      ]
     },
     "execution_count": 5,
     "metadata": {},
     "output_type": "execute_result"
    }
   ],
   "source": [
    "train.isnull().sum(), test.isnull().sum()"
   ]
  },
  {
   "cell_type": "markdown",
   "metadata": {},
   "source": [
    "Cabin has too many missing; I'm just going to ignore it. For \"Embarked\" and \"StringTicketsSplit\" and \"Fare\" I'm just going to use the mean, since the number of missing values (a grand total of 7) is too small to be worth spending more time on (for now). "
   ]
  },
  {
   "cell_type": "code",
   "execution_count": 6,
   "metadata": {
    "collapsed": false
   },
   "outputs": [
    {
     "data": {
      "text/plain": [
       "(PassengerId             0\n",
       " Survived                0\n",
       " Pclass                  0\n",
       " Name                    0\n",
       " Sex                     0\n",
       " Age                   177\n",
       " SibSp                   0\n",
       " Parch                   0\n",
       " Ticket                  0\n",
       " Fare                    0\n",
       " Cabin                 687\n",
       " Embarked                0\n",
       " StringTicketsSplit      0\n",
       " dtype: int64, PassengerId             0\n",
       " Pclass                  0\n",
       " Name                    0\n",
       " Sex                     0\n",
       " Age                    86\n",
       " SibSp                   0\n",
       " Parch                   0\n",
       " Ticket                  0\n",
       " Fare                    0\n",
       " Cabin                 327\n",
       " Embarked                0\n",
       " StringTicketsSplit      0\n",
       " dtype: int64)"
      ]
     },
     "execution_count": 6,
     "metadata": {},
     "output_type": "execute_result"
    }
   ],
   "source": [
    "train['Embarked'].fillna(train['Embarked'].mean(), inplace = True)\n",
    "train[\"StringTicketsSplit\"].fillna(train[\"StringTicketsSplit\"].mean(), inplace = True)\n",
    "\n",
    "test[\"Fare\"].fillna(test[\"Fare\"].mean(), inplace = True)\n",
    "\n",
    "train.isnull().sum(), test.isnull().sum()"
   ]
  },
  {
   "cell_type": "markdown",
   "metadata": {},
   "source": [
    "So the most significant missing category is Age; it also has a strong relationship with survival, so its worth properly accounting for: "
   ]
  },
  {
   "cell_type": "code",
   "execution_count": 7,
   "metadata": {
    "collapsed": false
   },
   "outputs": [
    {
     "data": {
      "text/plain": [
       "array([[<matplotlib.axes._subplots.AxesSubplot object at 0x11a4a7410>]], dtype=object)"
      ]
     },
     "execution_count": 7,
     "metadata": {},
     "output_type": "execute_result"
    },
    {
     "data": {
      "image/png": "[encoded data removed]",
      "text/plain": [
       "<matplotlib.figure.Figure at 0x10fbd84d0>"
      ]
     },
     "metadata": {},
     "output_type": "display_data"
    }
   ],
   "source": [
    "pd.DataFrame.hist(train, column = \"Age\")"
   ]
  },
  {
   "cell_type": "code",
   "execution_count": 8,
   "metadata": {
    "collapsed": false
   },
   "outputs": [
    {
     "data": {
      "text/plain": [
       "(<matplotlib.axes._subplots.AxesSubplot at 0x11a701810>, 29.69911764705882)"
      ]
     },
     "execution_count": 8,
     "metadata": {},
     "output_type": "execute_result"
    },
    {
     "data": {
      "image/png": "[encoded data removed]",
      "text/plain": [
       "<matplotlib.figure.Figure at 0x10fbd8710>"
      ]
     },
     "metadata": {},
     "output_type": "display_data"
    }
   ],
   "source": [
    "mean_test = train[\"Age\"].copy()\n",
    "filled = mean_test.fillna(mean_test.mean())\n",
    "pd.Series.hist(filled), mean_test.mean()"
   ]
  },
  {
   "cell_type": "markdown",
   "metadata": {},
   "source": [
    "So this pretty dramatically skews the data. What can I do about this? Is there a way I can use data I **do** have to predict what the value might have been? \n",
    "\n",
    "One way I could approach this is to use linear regression to predict the ages. Omg machine learning within machine learning. \n",
    "\n",
    "### Linear Regression to find Age"
   ]
  },
  {
   "cell_type": "code",
   "execution_count": 9,
   "metadata": {
    "collapsed": false,
    "scrolled": true
   },
   "outputs": [
    {
     "data": {
      "text/plain": [
       "(714, 13)"
      ]
     },
     "execution_count": 9,
     "metadata": {},
     "output_type": "execute_result"
    }
   ],
   "source": [
    "# Step 1; seperating the data into the training data (where Age != NaN), and the test data\n",
    "\n",
    "lin_train = train[np.isfinite(train[\"Age\"])]\n",
    "lin_test = train[np.isfinite(train[\"Age\"])==False]\n",
    "lin_train.shape"
   ]
  },
  {
   "cell_type": "code",
   "execution_count": 10,
   "metadata": {
    "collapsed": false
   },
   "outputs": [
    {
     "data": {
      "text/html": [
       "<div>\n",
       "<style>\n",
       "    .dataframe thead tr:only-child th {\n",
       "        text-align: right;\n",
       "    }\n",
       "\n",
       "    .dataframe thead th {\n",
       "        text-align: left;\n",
       "    }\n",
       "\n",
       "    .dataframe tbody tr th {\n",
       "        vertical-align: top;\n",
       "    }\n",
       "</style>\n",
       "<table border=\"1\" class=\"dataframe\">\n",
       "  <thead>\n",
       "    <tr style=\"text-align: right;\">\n",
       "      <th></th>\n",
       "      <th>PassengerId</th>\n",
       "      <th>Survived</th>\n",
       "      <th>Pclass</th>\n",
       "      <th>Name</th>\n",
       "      <th>Sex</th>\n",
       "      <th>Age</th>\n",
       "      <th>SibSp</th>\n",
       "      <th>Parch</th>\n",
       "      <th>Ticket</th>\n",
       "      <th>Fare</th>\n",
       "      <th>Cabin</th>\n",
       "      <th>Embarked</th>\n",
       "      <th>StringTicketsSplit</th>\n",
       "    </tr>\n",
       "  </thead>\n",
       "  <tbody>\n",
       "    <tr>\n",
       "      <th>590</th>\n",
       "      <td>591</td>\n",
       "      <td>0</td>\n",
       "      <td>3</td>\n",
       "      <td>Rintamaki, Mr. Matti</td>\n",
       "      <td>0</td>\n",
       "      <td>35.0</td>\n",
       "      <td>0</td>\n",
       "      <td>0</td>\n",
       "      <td>STON/O 2. 3101273</td>\n",
       "      <td>7.1250</td>\n",
       "      <td>NaN</td>\n",
       "      <td>0.6</td>\n",
       "      <td>3.101273e+06</td>\n",
       "    </tr>\n",
       "    <tr>\n",
       "      <th>884</th>\n",
       "      <td>885</td>\n",
       "      <td>0</td>\n",
       "      <td>3</td>\n",
       "      <td>Sutehall, Mr. Henry Jr</td>\n",
       "      <td>0</td>\n",
       "      <td>25.0</td>\n",
       "      <td>0</td>\n",
       "      <td>0</td>\n",
       "      <td>SOTON/OQ 392076</td>\n",
       "      <td>7.0500</td>\n",
       "      <td>NaN</td>\n",
       "      <td>0.6</td>\n",
       "      <td>3.920760e+05</td>\n",
       "    </tr>\n",
       "    <tr>\n",
       "      <th>120</th>\n",
       "      <td>121</td>\n",
       "      <td>0</td>\n",
       "      <td>2</td>\n",
       "      <td>Hickman, Mr. Stanley George</td>\n",
       "      <td>0</td>\n",
       "      <td>21.0</td>\n",
       "      <td>2</td>\n",
       "      <td>0</td>\n",
       "      <td>S.O.C. 14879</td>\n",
       "      <td>73.5000</td>\n",
       "      <td>NaN</td>\n",
       "      <td>0.6</td>\n",
       "      <td>1.487900e+04</td>\n",
       "    </tr>\n",
       "    <tr>\n",
       "      <th>179</th>\n",
       "      <td>180</td>\n",
       "      <td>0</td>\n",
       "      <td>3</td>\n",
       "      <td>Leonard, Mr. Lionel</td>\n",
       "      <td>0</td>\n",
       "      <td>36.0</td>\n",
       "      <td>0</td>\n",
       "      <td>0</td>\n",
       "      <td>LINE</td>\n",
       "      <td>0.0000</td>\n",
       "      <td>NaN</td>\n",
       "      <td>0.6</td>\n",
       "      <td>2.983284e+05</td>\n",
       "    </tr>\n",
       "    <tr>\n",
       "      <th>69</th>\n",
       "      <td>70</td>\n",
       "      <td>0</td>\n",
       "      <td>3</td>\n",
       "      <td>Kink, Mr. Vincenz</td>\n",
       "      <td>0</td>\n",
       "      <td>26.0</td>\n",
       "      <td>2</td>\n",
       "      <td>0</td>\n",
       "      <td>315151</td>\n",
       "      <td>8.6625</td>\n",
       "      <td>NaN</td>\n",
       "      <td>0.6</td>\n",
       "      <td>3.151510e+05</td>\n",
       "    </tr>\n",
       "  </tbody>\n",
       "</table>\n",
       "</div>"
      ],
      "text/plain": [
       "     PassengerId  Survived  Pclass                         Name  Sex   Age  \\\n",
       "590          591         0       3         Rintamaki, Mr. Matti    0  35.0   \n",
       "884          885         0       3       Sutehall, Mr. Henry Jr    0  25.0   \n",
       "120          121         0       2  Hickman, Mr. Stanley George    0  21.0   \n",
       "179          180         0       3          Leonard, Mr. Lionel    0  36.0   \n",
       "69            70         0       3            Kink, Mr. Vincenz    0  26.0   \n",
       "\n",
       "     SibSp  Parch             Ticket     Fare Cabin  Embarked  \\\n",
       "590      0      0  STON/O 2. 3101273   7.1250   NaN       0.6   \n",
       "884      0      0    SOTON/OQ 392076   7.0500   NaN       0.6   \n",
       "120      2      0       S.O.C. 14879  73.5000   NaN       0.6   \n",
       "179      0      0               LINE   0.0000   NaN       0.6   \n",
       "69       2      0             315151   8.6625   NaN       0.6   \n",
       "\n",
       "     StringTicketsSplit  \n",
       "590        3.101273e+06  \n",
       "884        3.920760e+05  \n",
       "120        1.487900e+04  \n",
       "179        2.983284e+05  \n",
       "69         3.151510e+05  "
      ]
     },
     "execution_count": 10,
     "metadata": {},
     "output_type": "execute_result"
    }
   ],
   "source": [
    "#Sweet; one last thing is to create a 'validation' dataset. I'll just shuffle the data and take the first\n",
    "#100 points to be the validation data. \n",
    "\n",
    "shuffled = lin_train.sample(frac = 1)\n",
    "\n",
    "X_train = shuffled.iloc[:int(len(shuffled.index)*0.75),:];\n",
    "Y_train = shuffled[\"Age\"].iloc[:int(len(shuffled.index)*0.75)];\n",
    "\n",
    "X_cv = shuffled.iloc[int(len(shuffled.index)*0.75):,:];\n",
    "Y_cv = shuffled[\"Age\"].iloc[int(len(shuffled.index)*0.75):];\n",
    "\n",
    "X_train.head()"
   ]
  },
  {
   "cell_type": "markdown",
   "metadata": {},
   "source": [
    "B-E-A-utiful. \n",
    "\n",
    "I'm now going to run several linear regressions, to find out which datasets are the best predictors of Age. "
   ]
  },
  {
   "cell_type": "code",
   "execution_count": 11,
   "metadata": {
    "collapsed": true
   },
   "outputs": [],
   "source": [
    "def error_vs_m_linreg(X_train, Y_train, X_cv, Y_cv, plot=True):\n",
    "    error_cv = [];\n",
    "    error_train = [];\n",
    "    linreg = linear_model.LinearRegression();\n",
    "    \n",
    "    for m in range(10, len(X_train.index)-1):\n",
    "        linreg.fit(X_train.iloc[:m,:], Y_train.iloc[:m]);\n",
    "        error_cv.append(metrics.mean_absolute_error(linreg.predict(X_cv), Y_cv)); \n",
    "        error_train.append(metrics.mean_absolute_error(linreg.predict(X_train.iloc[:m,:]), Y_train.iloc[:m]));\n",
    "\n",
    "    if plot: \n",
    "        m = range(10, len(X_train.index)-1);\n",
    "        p.plot(m, error_cv, label = 'cv');\n",
    "        p.plot(m, error_train, label = 'train');\n",
    "        p.xlabel(\"Training set size\")\n",
    "        p.ylabel(\"Mean Absolute Error\")\n",
    "        p.legend()\n",
    "        p.show()\n",
    "    \n",
    "    return error_cv[len(m)-1], error_train[len(m)-1]"
   ]
  },
  {
   "cell_type": "code",
   "execution_count": 12,
   "metadata": {
    "collapsed": false
   },
   "outputs": [
    {
     "data": {
      "image/png": "[encoded data removed]",
      "text/plain": [
       "<matplotlib.figure.Figure at 0x11a6f0a50>"
      ]
     },
     "metadata": {},
     "output_type": "display_data"
    },
    {
     "data": {
      "text/plain": [
       "(10.105139729843895, 9.9816999776572164)"
      ]
     },
     "execution_count": 12,
     "metadata": {},
     "output_type": "execute_result"
    }
   ],
   "source": [
    "#First, testing the use of PClass and SibSp\n",
    "\n",
    "X1 = X_train.iloc[:,[2,6]]\n",
    "X1_cv = X_cv.iloc[:,[2,6]]\n",
    "\n",
    "error_vs_m_linreg(X1, Y_train, X1_cv, Y_cv)\n"
   ]
  },
  {
   "cell_type": "code",
   "execution_count": 13,
   "metadata": {
    "collapsed": false,
    "scrolled": true
   },
   "outputs": [
    {
     "data": {
      "image/png": "[encoded data removed]",
      "text/plain": [
       "<matplotlib.figure.Figure at 0x11a866890>"
      ]
     },
     "metadata": {},
     "output_type": "display_data"
    },
    {
     "data": {
      "text/plain": [
       "(10.094843972084258, 9.9866634933345946)"
      ]
     },
     "execution_count": 13,
     "metadata": {},
     "output_type": "execute_result"
    }
   ],
   "source": [
    "#Now, including Parch\n",
    "X2 = X_train.iloc[:,[2,6,7]]\n",
    "X2_cv = X_cv.iloc[:,[2,6,7]]\n",
    "\n",
    "error_vs_m_linreg(X2, Y_train, X2_cv, Y_cv)"
   ]
  },
  {
   "cell_type": "code",
   "execution_count": 14,
   "metadata": {
    "collapsed": false
   },
   "outputs": [
    {
     "data": {
      "image/png": "[encoded data removed]",
      "text/plain": [
       "<matplotlib.figure.Figure at 0x11a832790>"
      ]
     },
     "metadata": {},
     "output_type": "display_data"
    },
    {
     "data": {
      "text/plain": [
       "(10.122681274123826, 9.9520431064432735)"
      ]
     },
     "execution_count": 14,
     "metadata": {},
     "output_type": "execute_result"
    }
   ],
   "source": [
    "#And finally, including Fare\n",
    "X3 = X_train.iloc[:,[2,6,7,9]]\n",
    "X3_cv = X_cv.iloc[:,[2,6,7,9]]\n",
    "error_vs_m_linreg(X3, Y_train, X3_cv, Y_cv)"
   ]
  },
  {
   "cell_type": "markdown",
   "metadata": {},
   "source": [
    "Scenario 2 seems to do the best (although all performances are comparable); let's use this to get out Ages. "
   ]
  },
  {
   "cell_type": "code",
   "execution_count": 15,
   "metadata": {
    "collapsed": false
   },
   "outputs": [
    {
     "data": {
      "text/plain": [
       "LinearRegression(copy_X=True, fit_intercept=True, n_jobs=1, normalize=False)"
      ]
     },
     "execution_count": 15,
     "metadata": {},
     "output_type": "execute_result"
    }
   ],
   "source": [
    "#First, making the model: \n",
    "linreg = linear_model.LinearRegression()\n",
    "linreg.fit(X2, Y_train)"
   ]
  },
  {
   "cell_type": "markdown",
   "metadata": {},
   "source": [
    "Okay; now lets use it to fill all the NaN values in the original dataset: "
   ]
  },
  {
   "cell_type": "code",
   "execution_count": 19,
   "metadata": {
    "collapsed": false,
    "scrolled": true
   },
   "outputs": [],
   "source": [
    "for i in range(train.shape[0]): \n",
    "    if (np.isfinite(train[\"Age\"][i])==False):\n",
    "        Age_pred = linreg.predict(train.iloc[i, [2,6,7]].reshape(1,-1))[0]\n",
    "        train.set_value(i, 'Age', Age_pred)"
   ]
  },
  {
   "cell_type": "code",
   "execution_count": 17,
   "metadata": {
    "collapsed": false
   },
   "outputs": [
    {
     "data": {
      "text/html": [
       "<div>\n",
       "<style>\n",
       "    .dataframe thead tr:only-child th {\n",
       "        text-align: right;\n",
       "    }\n",
       "\n",
       "    .dataframe thead th {\n",
       "        text-align: left;\n",
       "    }\n",
       "\n",
       "    .dataframe tbody tr th {\n",
       "        vertical-align: top;\n",
       "    }\n",
       "</style>\n",
       "<table border=\"1\" class=\"dataframe\">\n",
       "  <thead>\n",
       "    <tr style=\"text-align: right;\">\n",
       "      <th></th>\n",
       "      <th>PassengerId</th>\n",
       "      <th>Survived</th>\n",
       "      <th>Pclass</th>\n",
       "      <th>Name</th>\n",
       "      <th>Sex</th>\n",
       "      <th>Age</th>\n",
       "      <th>SibSp</th>\n",
       "      <th>Parch</th>\n",
       "      <th>Ticket</th>\n",
       "      <th>Fare</th>\n",
       "      <th>Cabin</th>\n",
       "      <th>Embarked</th>\n",
       "      <th>StringTicketsSplit</th>\n",
       "    </tr>\n",
       "  </thead>\n",
       "  <tbody>\n",
       "    <tr>\n",
       "      <th>0</th>\n",
       "      <td>1</td>\n",
       "      <td>0</td>\n",
       "      <td>3</td>\n",
       "      <td>Braund, Mr. Owen Harris</td>\n",
       "      <td>0</td>\n",
       "      <td>22.0</td>\n",
       "      <td>1</td>\n",
       "      <td>0</td>\n",
       "      <td>A/5 21171</td>\n",
       "      <td>7.2500</td>\n",
       "      <td>NaN</td>\n",
       "      <td>0.6</td>\n",
       "      <td>21171.0</td>\n",
       "    </tr>\n",
       "    <tr>\n",
       "      <th>1</th>\n",
       "      <td>2</td>\n",
       "      <td>1</td>\n",
       "      <td>1</td>\n",
       "      <td>Cumings, Mrs. John Bradley (Florence Briggs Th...</td>\n",
       "      <td>1</td>\n",
       "      <td>38.0</td>\n",
       "      <td>1</td>\n",
       "      <td>0</td>\n",
       "      <td>PC 17599</td>\n",
       "      <td>71.2833</td>\n",
       "      <td>C85</td>\n",
       "      <td>0.3</td>\n",
       "      <td>17599.0</td>\n",
       "    </tr>\n",
       "    <tr>\n",
       "      <th>2</th>\n",
       "      <td>3</td>\n",
       "      <td>1</td>\n",
       "      <td>3</td>\n",
       "      <td>Heikkinen, Miss. Laina</td>\n",
       "      <td>1</td>\n",
       "      <td>26.0</td>\n",
       "      <td>0</td>\n",
       "      <td>0</td>\n",
       "      <td>STON/O2. 3101282</td>\n",
       "      <td>7.9250</td>\n",
       "      <td>NaN</td>\n",
       "      <td>0.6</td>\n",
       "      <td>3101282.0</td>\n",
       "    </tr>\n",
       "    <tr>\n",
       "      <th>3</th>\n",
       "      <td>4</td>\n",
       "      <td>1</td>\n",
       "      <td>1</td>\n",
       "      <td>Futrelle, Mrs. Jacques Heath (Lily May Peel)</td>\n",
       "      <td>1</td>\n",
       "      <td>35.0</td>\n",
       "      <td>1</td>\n",
       "      <td>0</td>\n",
       "      <td>113803</td>\n",
       "      <td>53.1000</td>\n",
       "      <td>C123</td>\n",
       "      <td>0.6</td>\n",
       "      <td>113803.0</td>\n",
       "    </tr>\n",
       "    <tr>\n",
       "      <th>4</th>\n",
       "      <td>5</td>\n",
       "      <td>0</td>\n",
       "      <td>3</td>\n",
       "      <td>Allen, Mr. William Henry</td>\n",
       "      <td>0</td>\n",
       "      <td>35.0</td>\n",
       "      <td>0</td>\n",
       "      <td>0</td>\n",
       "      <td>373450</td>\n",
       "      <td>8.0500</td>\n",
       "      <td>NaN</td>\n",
       "      <td>0.6</td>\n",
       "      <td>373450.0</td>\n",
       "    </tr>\n",
       "  </tbody>\n",
       "</table>\n",
       "</div>"
      ],
      "text/plain": [
       "   PassengerId  Survived  Pclass  \\\n",
       "0            1         0       3   \n",
       "1            2         1       1   \n",
       "2            3         1       3   \n",
       "3            4         1       1   \n",
       "4            5         0       3   \n",
       "\n",
       "                                                Name  Sex   Age  SibSp  Parch  \\\n",
       "0                            Braund, Mr. Owen Harris    0  22.0      1      0   \n",
       "1  Cumings, Mrs. John Bradley (Florence Briggs Th...    1  38.0      1      0   \n",
       "2                             Heikkinen, Miss. Laina    1  26.0      0      0   \n",
       "3       Futrelle, Mrs. Jacques Heath (Lily May Peel)    1  35.0      1      0   \n",
       "4                           Allen, Mr. William Henry    0  35.0      0      0   \n",
       "\n",
       "             Ticket     Fare Cabin  Embarked  StringTicketsSplit  \n",
       "0         A/5 21171   7.2500   NaN       0.6             21171.0  \n",
       "1          PC 17599  71.2833   C85       0.3             17599.0  \n",
       "2  STON/O2. 3101282   7.9250   NaN       0.6           3101282.0  \n",
       "3            113803  53.1000  C123       0.6            113803.0  \n",
       "4            373450   8.0500   NaN       0.6            373450.0  "
      ]
     },
     "execution_count": 17,
     "metadata": {},
     "output_type": "execute_result"
    }
   ],
   "source": [
    "train.head()"
   ]
  },
  {
   "cell_type": "markdown",
   "metadata": {},
   "source": [
    "Oh boy! This is exciting! \n",
    "\n",
    "I also need to do this for the test dataset but !!! WARNING !!! the values are different since there isn't the survived class; I need to subtract one from each: "
   ]
  },
  {
   "cell_type": "code",
   "execution_count": 20,
   "metadata": {
    "collapsed": false
   },
   "outputs": [],
   "source": [
    "test.iloc[1, [1,5,6,8]]\n",
    "for i in range(test.shape[0]):\n",
    "    if (np.isfinite(test[\"Age\"][i])==False):\n",
    "        Age_pred = linreg.predict(test.iloc[i, [1,5,6]].reshape(1,-1))[0]\n",
    "        test.set_value(i, 'Age', Age_pred)"
   ]
  },
  {
   "cell_type": "code",
   "execution_count": 21,
   "metadata": {
    "collapsed": false,
    "scrolled": true
   },
   "outputs": [
    {
     "data": {
      "text/html": [
       "<div>\n",
       "<style>\n",
       "    .dataframe thead tr:only-child th {\n",
       "        text-align: right;\n",
       "    }\n",
       "\n",
       "    .dataframe thead th {\n",
       "        text-align: left;\n",
       "    }\n",
       "\n",
       "    .dataframe tbody tr th {\n",
       "        vertical-align: top;\n",
       "    }\n",
       "</style>\n",
       "<table border=\"1\" class=\"dataframe\">\n",
       "  <thead>\n",
       "    <tr style=\"text-align: right;\">\n",
       "      <th></th>\n",
       "      <th>PassengerId</th>\n",
       "      <th>Pclass</th>\n",
       "      <th>Name</th>\n",
       "      <th>Sex</th>\n",
       "      <th>Age</th>\n",
       "      <th>SibSp</th>\n",
       "      <th>Parch</th>\n",
       "      <th>Ticket</th>\n",
       "      <th>Fare</th>\n",
       "      <th>Cabin</th>\n",
       "      <th>Embarked</th>\n",
       "      <th>StringTicketsSplit</th>\n",
       "    </tr>\n",
       "  </thead>\n",
       "  <tbody>\n",
       "    <tr>\n",
       "      <th>0</th>\n",
       "      <td>892</td>\n",
       "      <td>3</td>\n",
       "      <td>Kelly, Mr. James</td>\n",
       "      <td>0</td>\n",
       "      <td>34.5</td>\n",
       "      <td>0</td>\n",
       "      <td>0</td>\n",
       "      <td>330911</td>\n",
       "      <td>7.8292</td>\n",
       "      <td>NaN</td>\n",
       "      <td>0.9</td>\n",
       "      <td>330911</td>\n",
       "    </tr>\n",
       "    <tr>\n",
       "      <th>1</th>\n",
       "      <td>893</td>\n",
       "      <td>3</td>\n",
       "      <td>Wilkes, Mrs. James (Ellen Needs)</td>\n",
       "      <td>1</td>\n",
       "      <td>47.0</td>\n",
       "      <td>1</td>\n",
       "      <td>0</td>\n",
       "      <td>363272</td>\n",
       "      <td>7.0000</td>\n",
       "      <td>NaN</td>\n",
       "      <td>0.6</td>\n",
       "      <td>363272</td>\n",
       "    </tr>\n",
       "    <tr>\n",
       "      <th>2</th>\n",
       "      <td>894</td>\n",
       "      <td>2</td>\n",
       "      <td>Myles, Mr. Thomas Francis</td>\n",
       "      <td>0</td>\n",
       "      <td>62.0</td>\n",
       "      <td>0</td>\n",
       "      <td>0</td>\n",
       "      <td>240276</td>\n",
       "      <td>9.6875</td>\n",
       "      <td>NaN</td>\n",
       "      <td>0.9</td>\n",
       "      <td>240276</td>\n",
       "    </tr>\n",
       "    <tr>\n",
       "      <th>3</th>\n",
       "      <td>895</td>\n",
       "      <td>3</td>\n",
       "      <td>Wirz, Mr. Albert</td>\n",
       "      <td>0</td>\n",
       "      <td>27.0</td>\n",
       "      <td>0</td>\n",
       "      <td>0</td>\n",
       "      <td>315154</td>\n",
       "      <td>8.6625</td>\n",
       "      <td>NaN</td>\n",
       "      <td>0.6</td>\n",
       "      <td>315154</td>\n",
       "    </tr>\n",
       "    <tr>\n",
       "      <th>4</th>\n",
       "      <td>896</td>\n",
       "      <td>3</td>\n",
       "      <td>Hirvonen, Mrs. Alexander (Helga E Lindqvist)</td>\n",
       "      <td>1</td>\n",
       "      <td>22.0</td>\n",
       "      <td>1</td>\n",
       "      <td>1</td>\n",
       "      <td>3101298</td>\n",
       "      <td>12.2875</td>\n",
       "      <td>NaN</td>\n",
       "      <td>0.6</td>\n",
       "      <td>3101298</td>\n",
       "    </tr>\n",
       "  </tbody>\n",
       "</table>\n",
       "</div>"
      ],
      "text/plain": [
       "   PassengerId  Pclass                                          Name  Sex  \\\n",
       "0          892       3                              Kelly, Mr. James    0   \n",
       "1          893       3              Wilkes, Mrs. James (Ellen Needs)    1   \n",
       "2          894       2                     Myles, Mr. Thomas Francis    0   \n",
       "3          895       3                              Wirz, Mr. Albert    0   \n",
       "4          896       3  Hirvonen, Mrs. Alexander (Helga E Lindqvist)    1   \n",
       "\n",
       "    Age  SibSp  Parch   Ticket     Fare Cabin  Embarked  StringTicketsSplit  \n",
       "0  34.5      0      0   330911   7.8292   NaN       0.9              330911  \n",
       "1  47.0      1      0   363272   7.0000   NaN       0.6              363272  \n",
       "2  62.0      0      0   240276   9.6875   NaN       0.9              240276  \n",
       "3  27.0      0      0   315154   8.6625   NaN       0.6              315154  \n",
       "4  22.0      1      1  3101298  12.2875   NaN       0.6             3101298  "
      ]
     },
     "execution_count": 21,
     "metadata": {},
     "output_type": "execute_result"
    }
   ],
   "source": [
    "test.head()"
   ]
  },
  {
   "cell_type": "code",
   "execution_count": 22,
   "metadata": {
    "collapsed": false
   },
   "outputs": [
    {
     "data": {
      "text/plain": [
       "(PassengerId             0\n",
       " Survived                0\n",
       " Pclass                  0\n",
       " Name                    0\n",
       " Sex                     0\n",
       " Age                     0\n",
       " SibSp                   0\n",
       " Parch                   0\n",
       " Ticket                  0\n",
       " Fare                    0\n",
       " Cabin                 687\n",
       " Embarked                0\n",
       " StringTicketsSplit      0\n",
       " dtype: int64, PassengerId             0\n",
       " Pclass                  0\n",
       " Name                    0\n",
       " Sex                     0\n",
       " Age                     0\n",
       " SibSp                   0\n",
       " Parch                   0\n",
       " Ticket                  0\n",
       " Fare                    0\n",
       " Cabin                 327\n",
       " Embarked                0\n",
       " StringTicketsSplit      0\n",
       " dtype: int64)"
      ]
     },
     "execution_count": 22,
     "metadata": {},
     "output_type": "execute_result"
    }
   ],
   "source": [
    "train.isnull().sum(), test.isnull().sum()"
   ]
  },
  {
   "cell_type": "markdown",
   "metadata": {},
   "source": [
    "### 1.3 Feature scaling and mean normalization"
   ]
  },
  {
   "cell_type": "markdown",
   "metadata": {},
   "source": [
    "Now, given the massive values of the ticket numbers, I also want to normalize them. For performance, lets normalize everything. \n",
    "\n",
    "I can't use scikit's preprocessing.MinMaxScaler because I didn't join the training and test sets, but I want them to be scaled (and normalized) in the same way. Therefore, I'm going to have to do it manually. Assuming they are fairly similar, I'm going to scale and normalize both using data from the training set. "
   ]
  },
  {
   "cell_type": "code",
   "execution_count": 23,
   "metadata": {
    "collapsed": false
   },
   "outputs": [
    {
     "data": {
      "text/html": [
       "<div>\n",
       "<style>\n",
       "    .dataframe thead tr:only-child th {\n",
       "        text-align: right;\n",
       "    }\n",
       "\n",
       "    .dataframe thead th {\n",
       "        text-align: left;\n",
       "    }\n",
       "\n",
       "    .dataframe tbody tr th {\n",
       "        vertical-align: top;\n",
       "    }\n",
       "</style>\n",
       "<table border=\"1\" class=\"dataframe\">\n",
       "  <thead>\n",
       "    <tr style=\"text-align: right;\">\n",
       "      <th></th>\n",
       "      <th>PassengerId</th>\n",
       "      <th>Survived</th>\n",
       "      <th>Pclass</th>\n",
       "      <th>Name</th>\n",
       "      <th>Sex</th>\n",
       "      <th>Age</th>\n",
       "      <th>SibSp</th>\n",
       "      <th>Parch</th>\n",
       "      <th>Ticket</th>\n",
       "      <th>Fare</th>\n",
       "      <th>Cabin</th>\n",
       "      <th>Embarked</th>\n",
       "      <th>StringTicketsSplit</th>\n",
       "    </tr>\n",
       "  </thead>\n",
       "  <tbody>\n",
       "    <tr>\n",
       "      <th>0</th>\n",
       "      <td>1</td>\n",
       "      <td>0</td>\n",
       "      <td>3</td>\n",
       "      <td>Braund, Mr. Owen Harris</td>\n",
       "      <td>0</td>\n",
       "      <td>0.335575</td>\n",
       "      <td>1</td>\n",
       "      <td>0</td>\n",
       "      <td>A/5 21171</td>\n",
       "      <td>0.014151</td>\n",
       "      <td>NaN</td>\n",
       "      <td>0.6</td>\n",
       "      <td>0.006825</td>\n",
       "    </tr>\n",
       "    <tr>\n",
       "      <th>1</th>\n",
       "      <td>2</td>\n",
       "      <td>1</td>\n",
       "      <td>1</td>\n",
       "      <td>Cumings, Mrs. John Bradley (Florence Briggs Th...</td>\n",
       "      <td>1</td>\n",
       "      <td>0.518865</td>\n",
       "      <td>1</td>\n",
       "      <td>0</td>\n",
       "      <td>PC 17599</td>\n",
       "      <td>0.139136</td>\n",
       "      <td>C85</td>\n",
       "      <td>0.3</td>\n",
       "      <td>0.005674</td>\n",
       "    </tr>\n",
       "    <tr>\n",
       "      <th>2</th>\n",
       "      <td>3</td>\n",
       "      <td>1</td>\n",
       "      <td>3</td>\n",
       "      <td>Heikkinen, Miss. Laina</td>\n",
       "      <td>1</td>\n",
       "      <td>0.381397</td>\n",
       "      <td>0</td>\n",
       "      <td>0</td>\n",
       "      <td>STON/O2. 3101282</td>\n",
       "      <td>0.015469</td>\n",
       "      <td>NaN</td>\n",
       "      <td>0.6</td>\n",
       "      <td>0.999989</td>\n",
       "    </tr>\n",
       "    <tr>\n",
       "      <th>3</th>\n",
       "      <td>4</td>\n",
       "      <td>1</td>\n",
       "      <td>1</td>\n",
       "      <td>Futrelle, Mrs. Jacques Heath (Lily May Peel)</td>\n",
       "      <td>1</td>\n",
       "      <td>0.484498</td>\n",
       "      <td>1</td>\n",
       "      <td>0</td>\n",
       "      <td>113803</td>\n",
       "      <td>0.103644</td>\n",
       "      <td>C123</td>\n",
       "      <td>0.6</td>\n",
       "      <td>0.036694</td>\n",
       "    </tr>\n",
       "    <tr>\n",
       "      <th>4</th>\n",
       "      <td>5</td>\n",
       "      <td>0</td>\n",
       "      <td>3</td>\n",
       "      <td>Allen, Mr. William Henry</td>\n",
       "      <td>0</td>\n",
       "      <td>0.484498</td>\n",
       "      <td>0</td>\n",
       "      <td>0</td>\n",
       "      <td>373450</td>\n",
       "      <td>0.015713</td>\n",
       "      <td>NaN</td>\n",
       "      <td>0.6</td>\n",
       "      <td>0.120416</td>\n",
       "    </tr>\n",
       "  </tbody>\n",
       "</table>\n",
       "</div>"
      ],
      "text/plain": [
       "   PassengerId  Survived  Pclass  \\\n",
       "0            1         0       3   \n",
       "1            2         1       1   \n",
       "2            3         1       3   \n",
       "3            4         1       1   \n",
       "4            5         0       3   \n",
       "\n",
       "                                                Name  Sex       Age  SibSp  \\\n",
       "0                            Braund, Mr. Owen Harris    0  0.335575      1   \n",
       "1  Cumings, Mrs. John Bradley (Florence Briggs Th...    1  0.518865      1   \n",
       "2                             Heikkinen, Miss. Laina    1  0.381397      0   \n",
       "3       Futrelle, Mrs. Jacques Heath (Lily May Peel)    1  0.484498      1   \n",
       "4                           Allen, Mr. William Henry    0  0.484498      0   \n",
       "\n",
       "   Parch            Ticket      Fare Cabin  Embarked  StringTicketsSplit  \n",
       "0      0         A/5 21171  0.014151   NaN       0.6            0.006825  \n",
       "1      0          PC 17599  0.139136   C85       0.3            0.005674  \n",
       "2      0  STON/O2. 3101282  0.015469   NaN       0.6            0.999989  \n",
       "3      0            113803  0.103644  C123       0.6            0.036694  \n",
       "4      0            373450  0.015713   NaN       0.6            0.120416  "
      ]
     },
     "execution_count": 23,
     "metadata": {},
     "output_type": "execute_result"
    }
   ],
   "source": [
    "#First, mean normalization \n",
    "train.StringTicketsSplit = train.StringTicketsSplit.apply(lambda x: x - train.StringTicketsSplit.mean())\n",
    "test.StringTicketsSplit = test.StringTicketsSplit.apply(lambda x: x - train.StringTicketsSplit.mean())\n",
    "#Feature scaling the ticket numbers\n",
    "ticket_max = train.StringTicketsSplit.max()\n",
    "ticket_min = train.StringTicketsSplit.min()\n",
    "\n",
    "train.StringTicketsSplit = train.StringTicketsSplit.apply(lambda x: (x-ticket_min)/(ticket_max-ticket_min))\n",
    "test.StringTicketsSplit = test.StringTicketsSplit.apply(lambda x: (x-ticket_min)/(ticket_max-ticket_min))\n",
    "\n",
    "#Mean normalization on the fare\n",
    "train.Fare = train.Fare.apply(lambda x: x-train.Fare.mean())\n",
    "test.Fare = test.Fare.apply(lambda x: x-train.Fare.mean())\n",
    "\n",
    "#Feature scaling the fare\n",
    "fare_max = train.Fare.max()\n",
    "fare_min = train.Fare.min()\n",
    "\n",
    "train.Fare = train.Fare.apply(lambda x: (x-fare_min)/(fare_max-fare_min))\n",
    "test.Fare = test.Fare.apply(lambda x: (x-fare_min)/(fare_max-fare_min))\n",
    "\n",
    "#Mean normalization of the ages\n",
    "train.Age = train.Age.apply(lambda x: x-train.Age.mean())\n",
    "test.Age = test.Age.apply(lambda x: x-train.Age.mean())\n",
    "\n",
    "#Feature scaling the Ages\n",
    "age_max = train.Age.max()\n",
    "age_min = train.Age.min()\n",
    "\n",
    "train.Age = train.Age.apply(lambda x: (x-age_min)/(age_max - age_min))\n",
    "test.Age = test.Age.apply(lambda x: (x-age_min)/(age_max-age_min))\n",
    "\n",
    "\n",
    "\n",
    "train.head()"
   ]
  },
  {
   "cell_type": "markdown",
   "metadata": {},
   "source": [
    "### 1.4 Seperating the cross validation and training sets\n",
    "In order to do this, I want the data to be randomly seperated, so the first thing I'll do is shuffle the data row-wise. \n",
    "\n",
    "I'll then split it into a training and cross validation set, before isolating the columns which I'll be using to train the model (which will be all numerical columns). "
   ]
  },
  {
   "cell_type": "code",
   "execution_count": 24,
   "metadata": {
    "collapsed": false
   },
   "outputs": [
    {
     "data": {
      "text/html": [
       "<div>\n",
       "<style>\n",
       "    .dataframe thead tr:only-child th {\n",
       "        text-align: right;\n",
       "    }\n",
       "\n",
       "    .dataframe thead th {\n",
       "        text-align: left;\n",
       "    }\n",
       "\n",
       "    .dataframe tbody tr th {\n",
       "        vertical-align: top;\n",
       "    }\n",
       "</style>\n",
       "<table border=\"1\" class=\"dataframe\">\n",
       "  <thead>\n",
       "    <tr style=\"text-align: right;\">\n",
       "      <th></th>\n",
       "      <th>PassengerId</th>\n",
       "      <th>Survived</th>\n",
       "      <th>Pclass</th>\n",
       "      <th>Name</th>\n",
       "      <th>Sex</th>\n",
       "      <th>Age</th>\n",
       "      <th>SibSp</th>\n",
       "      <th>Parch</th>\n",
       "      <th>Ticket</th>\n",
       "      <th>Fare</th>\n",
       "      <th>Cabin</th>\n",
       "      <th>Embarked</th>\n",
       "      <th>StringTicketsSplit</th>\n",
       "    </tr>\n",
       "  </thead>\n",
       "  <tbody>\n",
       "    <tr>\n",
       "      <th>175</th>\n",
       "      <td>176</td>\n",
       "      <td>0</td>\n",
       "      <td>3</td>\n",
       "      <td>Klasen, Mr. Klas Albin</td>\n",
       "      <td>0</td>\n",
       "      <td>0.289753</td>\n",
       "      <td>1</td>\n",
       "      <td>1</td>\n",
       "      <td>350404</td>\n",
       "      <td>0.015330</td>\n",
       "      <td>NaN</td>\n",
       "      <td>0.6</td>\n",
       "      <td>0.112985</td>\n",
       "    </tr>\n",
       "    <tr>\n",
       "      <th>271</th>\n",
       "      <td>272</td>\n",
       "      <td>1</td>\n",
       "      <td>3</td>\n",
       "      <td>Tornquist, Mr. William Henry</td>\n",
       "      <td>0</td>\n",
       "      <td>0.369942</td>\n",
       "      <td>0</td>\n",
       "      <td>0</td>\n",
       "      <td>LINE</td>\n",
       "      <td>0.000000</td>\n",
       "      <td>NaN</td>\n",
       "      <td>0.6</td>\n",
       "      <td>0.096193</td>\n",
       "    </tr>\n",
       "    <tr>\n",
       "      <th>63</th>\n",
       "      <td>64</td>\n",
       "      <td>0</td>\n",
       "      <td>3</td>\n",
       "      <td>Skoog, Master. Harald</td>\n",
       "      <td>0</td>\n",
       "      <td>0.129374</td>\n",
       "      <td>3</td>\n",
       "      <td>2</td>\n",
       "      <td>347088</td>\n",
       "      <td>0.054457</td>\n",
       "      <td>NaN</td>\n",
       "      <td>0.6</td>\n",
       "      <td>0.111915</td>\n",
       "    </tr>\n",
       "    <tr>\n",
       "      <th>760</th>\n",
       "      <td>761</td>\n",
       "      <td>0</td>\n",
       "      <td>3</td>\n",
       "      <td>Garfirth, Mr. John</td>\n",
       "      <td>0</td>\n",
       "      <td>0.402822</td>\n",
       "      <td>0</td>\n",
       "      <td>0</td>\n",
       "      <td>358585</td>\n",
       "      <td>0.028302</td>\n",
       "      <td>NaN</td>\n",
       "      <td>0.6</td>\n",
       "      <td>0.115623</td>\n",
       "    </tr>\n",
       "    <tr>\n",
       "      <th>401</th>\n",
       "      <td>402</td>\n",
       "      <td>0</td>\n",
       "      <td>3</td>\n",
       "      <td>Adams, Mr. John</td>\n",
       "      <td>0</td>\n",
       "      <td>0.381397</td>\n",
       "      <td>0</td>\n",
       "      <td>0</td>\n",
       "      <td>341826</td>\n",
       "      <td>0.015713</td>\n",
       "      <td>NaN</td>\n",
       "      <td>0.6</td>\n",
       "      <td>0.110219</td>\n",
       "    </tr>\n",
       "  </tbody>\n",
       "</table>\n",
       "</div>"
      ],
      "text/plain": [
       "     PassengerId  Survived  Pclass                          Name  Sex  \\\n",
       "175          176         0       3        Klasen, Mr. Klas Albin    0   \n",
       "271          272         1       3  Tornquist, Mr. William Henry    0   \n",
       "63            64         0       3         Skoog, Master. Harald    0   \n",
       "760          761         0       3            Garfirth, Mr. John    0   \n",
       "401          402         0       3               Adams, Mr. John    0   \n",
       "\n",
       "          Age  SibSp  Parch  Ticket      Fare Cabin  Embarked  \\\n",
       "175  0.289753      1      1  350404  0.015330   NaN       0.6   \n",
       "271  0.369942      0      0    LINE  0.000000   NaN       0.6   \n",
       "63   0.129374      3      2  347088  0.054457   NaN       0.6   \n",
       "760  0.402822      0      0  358585  0.028302   NaN       0.6   \n",
       "401  0.381397      0      0  341826  0.015713   NaN       0.6   \n",
       "\n",
       "     StringTicketsSplit  \n",
       "175            0.112985  \n",
       "271            0.096193  \n",
       "63             0.111915  \n",
       "760            0.115623  \n",
       "401            0.110219  "
      ]
     },
     "execution_count": 24,
     "metadata": {},
     "output_type": "execute_result"
    }
   ],
   "source": [
    "#To split the data, I first need to shuffle it\n",
    "shuffled = train.sample(frac = 1); #By making frac=1, I shuffle it all\n",
    "shuffled.head()"
   ]
  },
  {
   "cell_type": "code",
   "execution_count": 25,
   "metadata": {
    "collapsed": false
   },
   "outputs": [
    {
     "name": "stdout",
     "output_type": "stream",
     "text": [
      "(668, 8) (668,) (223, 8) (223,)\n"
     ]
    }
   ],
   "source": [
    "#Now that its shuffled, I want to split it 75:25 into the training and cross validation sets \n",
    "X_train = shuffled.iloc[:int(len(shuffled.index)*0.75),[2,4,5,6,7,9,11,12]];\n",
    "Y_train = shuffled[\"Survived\"].iloc[:int(len(shuffled.index)*0.75)];\n",
    "\n",
    "X_cv = shuffled.iloc[int(len(shuffled.index)*0.75):,[2,4,5,6,7,9,11,12]];\n",
    "Y_cv = shuffled[\"Survived\"].iloc[int(len(shuffled.index)*0.75):];\n",
    "\n",
    "print (X_train.shape), (Y_train.shape), (X_cv.shape), (Y_cv.shape)\n",
    "#X_train.head()"
   ]
  },
  {
   "cell_type": "markdown",
   "metadata": {},
   "source": [
    "Okay; now the data is ready for a first run. Hooray! "
   ]
  },
  {
   "cell_type": "markdown",
   "metadata": {},
   "source": [
    "## 2. Logistic Regression \n",
    "### 2.1 Implementing Logistic Regression \n",
    "\n",
    "For this first run, all values are going to be left as default; optimization will happen later, once I get a feel for how the model does with these features. "
   ]
  },
  {
   "cell_type": "code",
   "execution_count": 26,
   "metadata": {
    "collapsed": false
   },
   "outputs": [
    {
     "name": "stdout",
     "output_type": "stream",
     "text": [
      "0.802395209581 0.789237668161\n"
     ]
    }
   ],
   "source": [
    "logreg = linear_model.LogisticRegression();\n",
    "logreg.fit(X_train, Y_train)\n",
    "print logreg.score(X_train, Y_train), logreg.score(X_cv, Y_cv)"
   ]
  },
  {
   "cell_type": "markdown",
   "metadata": {},
   "source": [
    "Okay! Not bad, but there's work to be done. \n",
    "#### 2.1.1 - Plotting error against training dataset size \n",
    "The first step is to figure out exactly what these numbers mean. Are we overfitting or underfitting the data? "
   ]
  },
  {
   "cell_type": "code",
   "execution_count": 27,
   "metadata": {
    "collapsed": false
   },
   "outputs": [
    {
     "data": {
      "image/png": "[encoded data removed]",
      "text/plain": [
       "<matplotlib.figure.Figure at 0x11d330490>"
      ]
     },
     "metadata": {},
     "output_type": "display_data"
    },
    {
     "data": {
      "text/plain": [
       "(0.21076233183856502,\n",
       " 0.19519519519519518,\n",
       " 0.73743016759776536,\n",
       " 0.71827956989247321)"
      ]
     },
     "execution_count": 27,
     "metadata": {},
     "output_type": "execute_result"
    }
   ],
   "source": [
    "def error_vs_m_logreg(X_train, Y_train, X_cv, Y_cv, C=1, plot=True):\n",
    "    error_cv = [];\n",
    "    error_train = [];\n",
    "    logreg = linear_model.LogisticRegression(C=C);\n",
    "    for m in range(10, len(X_train.index)-1):\n",
    "        logreg.fit(X_train.iloc[:m,:], Y_train.iloc[:m]);\n",
    "        error_cv.append(metrics.mean_absolute_error(logreg.predict(X_cv), Y_cv)); \n",
    "        error_train.append(metrics.mean_absolute_error(logreg.predict(X_train.iloc[:m,:]), Y_train.iloc[:m]));\n",
    "\n",
    "    if plot: \n",
    "        m = range(10, len(X_train.index)-1);\n",
    "        p.plot(m, error_cv, label = 'cv');\n",
    "        p.plot(m, error_train, label = 'train');\n",
    "        p.xlabel(\"Training set size\")\n",
    "        p.ylabel(\"Mean Absolute Error\")\n",
    "        p.legend()\n",
    "        p.show()\n",
    "    \n",
    "    f1_cv = metrics.f1_score(Y_cv, logreg.predict(X_cv))\n",
    "    f1_train = metrics.f1_score(Y_train, logreg.predict(X_train))\n",
    "    return error_cv[len(m)-1], error_train[len(m)-1], f1_cv, f1_train\n",
    "\n",
    "error_vs_m_logreg(X_train, Y_train, X_cv, Y_cv)"
   ]
  },
  {
   "cell_type": "markdown",
   "metadata": {},
   "source": [
    "So its clear that I'm underfitting the data. \n",
    "\n",
    "### 2.2 Parameter Optimization\n",
    "\n",
    "Lets try optimizing C, since with $\\lambda = 1$, its likely to be highly biased. I want to find the value of C for which the mean absolute error of the cross validation set is minimized. "
   ]
  },
  {
   "cell_type": "code",
   "execution_count": 26,
   "metadata": {
    "collapsed": false
   },
   "outputs": [
    {
     "data": {
      "image/png": "[encoded data removed]",
      "text/plain": [
       "<matplotlib.figure.Figure at 0x10f5e5e50>"
      ]
     },
     "metadata": {},
     "output_type": "display_data"
    }
   ],
   "source": [
    "possible_C = np.logspace(-6, 1, num=25, base = 3);\n",
    "def optimize_c_logreg(possible_C, X_train, Y_train, X_cv, Y_cv, plot = True):\n",
    "    C_error_train = [];\n",
    "    C_error_cv = [];\n",
    "    for i in range(len(possible_C)):\n",
    "        logreg = linear_model.LogisticRegression(C = possible_C[i])\n",
    "        logreg.fit(X_train, Y_train);\n",
    "        C_error_train.append(metrics.mean_absolute_error(logreg.predict(X_train), Y_train));\n",
    "        C_error_cv.append(metrics.mean_absolute_error(logreg.predict(X_cv), Y_cv)); \n",
    "    if plot:\n",
    "        p.plot(possible_C, C_error_train, label = 'train');\n",
    "        p.plot(possible_C, C_error_cv, label = 'cv'); \n",
    "        p.xlabel(\"C value (1/lambda)\")\n",
    "        p.ylabel(\"Mean Absolute Error\")\n",
    "        p.legend()\n",
    "        p.show()\n",
    "    C_min = possible_C[np.argmin(C_error_cv)]\n",
    "    return C_min\n",
    "\n",
    "C_min = optimize_c_logreg(possible_C, X_train, Y_train, X_cv, Y_cv)\n",
    "    "
   ]
  },
  {
   "cell_type": "markdown",
   "metadata": {},
   "source": [
    "Now, lets try running the previous code with this parameter set"
   ]
  },
  {
   "cell_type": "code",
   "execution_count": 27,
   "metadata": {
    "collapsed": false
   },
   "outputs": [
    {
     "data": {
      "image/png": "[encoded data removed]",
      "text/plain": [
       "<matplotlib.figure.Figure at 0x10fbb1e90>"
      ]
     },
     "metadata": {},
     "output_type": "display_data"
    },
    {
     "name": "stdout",
     "output_type": "stream",
     "text": [
      "0.206278026906 0.193693693694 0.7125 0.738955823293\n"
     ]
    }
   ],
   "source": [
    "cv_error, train_error, f1_cv, f1_train = error_vs_m_logreg(X_train, Y_train, X_cv, Y_cv, C=C_min)\n",
    "print cv_error, train_error, f1_cv, f1_train"
   ]
  },
  {
   "cell_type": "markdown",
   "metadata": {
    "collapsed": true
   },
   "source": [
    "## 3. Implementing Support Vector Machine\n",
    "\n",
    "So I think one of the challenges with logistic regression is that the number of datapoints is quite small, as is the number of features. SVM should better handle this scale. \n",
    "\n",
    "### 3.1 Implementing SVM "
   ]
  },
  {
   "cell_type": "code",
   "execution_count": 28,
   "metadata": {
    "collapsed": false
   },
   "outputs": [
    {
     "name": "stdout",
     "output_type": "stream",
     "text": [
      "0.815868263473 0.80269058296\n"
     ]
    }
   ],
   "source": [
    "svm_model = svm.SVC();\n",
    "svm_model.fit(X_train, Y_train);\n",
    "print svm_model.score(X_train, Y_train), svm_model.score(X_cv, Y_cv)"
   ]
  },
  {
   "cell_type": "markdown",
   "metadata": {},
   "source": [
    "This is excitingly better than Logistic Regression. Let's investigate"
   ]
  },
  {
   "cell_type": "code",
   "execution_count": 29,
   "metadata": {
    "collapsed": false
   },
   "outputs": [
    {
     "data": {
      "image/png": "[encoded data removed]",
      "text/plain": [
       "<matplotlib.figure.Figure at 0x10fd52650>"
      ]
     },
     "metadata": {},
     "output_type": "display_data"
    },
    {
     "data": {
      "text/plain": [
       "(0.19730941704035873,\n",
       " 0.18018018018018017,\n",
       " 0.71428571428571441,\n",
       " 0.74844074844074848)"
      ]
     },
     "execution_count": 29,
     "metadata": {},
     "output_type": "execute_result"
    }
   ],
   "source": [
    "def error_vs_m_svc(X_train, Y_train, X_cv, Y_cv, C=1, plot=True):\n",
    "    error_cv = [];\n",
    "    error_train = [];\n",
    "    svc = svm.SVC(C=C);\n",
    "    for m in range(10, len(X_train.index)-1):\n",
    "        svc.fit(X_train.iloc[:m,:], Y_train.iloc[:m]);\n",
    "        error_cv.append(metrics.mean_absolute_error(svc.predict(X_cv), Y_cv)); \n",
    "        error_train.append(metrics.mean_absolute_error(svc.predict(X_train.iloc[:m,:]), Y_train.iloc[:m]));\n",
    "\n",
    "    if plot: \n",
    "        m = range(10, len(X_train.index)-1);\n",
    "        p.plot(m, error_cv, label = 'cv');\n",
    "        p.plot(m, error_train, label = 'train');\n",
    "        p.xlabel(\"Training set size\")\n",
    "        p.ylabel(\"Mean Absolute Error\")\n",
    "        p.legend()\n",
    "        p.show()\n",
    "    \n",
    "    f1_cv = metrics.f1_score(Y_cv, svc.predict(X_cv))\n",
    "    f1_train = metrics.f1_score(Y_train, svc.predict(X_train))\n",
    "    return error_cv[len(m)-1], error_train[len(m)-1], f1_cv, f1_train\n",
    "\n",
    "error_vs_m_svc(X_train, Y_train, X_cv, Y_cv)"
   ]
  },
  {
   "cell_type": "markdown",
   "metadata": {},
   "source": [
    "Oh boy this is promising. Let's optimize the parameters for this using the cross validation dataset. \n",
    "\n",
    "### 3.2 Optimization"
   ]
  },
  {
   "cell_type": "code",
   "execution_count": 30,
   "metadata": {
    "collapsed": false
   },
   "outputs": [
    {
     "data": {
      "image/png": "[encoded data removed]",
      "text/plain": [
       "<matplotlib.figure.Figure at 0x10f97e710>"
      ]
     },
     "metadata": {},
     "output_type": "display_data"
    },
    {
     "name": "stdout",
     "output_type": "stream",
     "text": [
      "0.832683177656\n"
     ]
    }
   ],
   "source": [
    "possible_C = np.logspace(-6, 1, num=25, base = 3);\n",
    "def optimize_c_svc(possible_C, X_train, Y_train, X_cv, Y_cv, plot = True):\n",
    "    C_error_train = [];\n",
    "    C_error_cv = [];\n",
    "    for i in range(len(possible_C)):\n",
    "        svc = svm.SVC(C = possible_C[i])\n",
    "        svc.fit(X_train, Y_train);\n",
    "        C_error_train.append(metrics.mean_absolute_error(svc.predict(X_train), Y_train));\n",
    "        C_error_cv.append(metrics.mean_absolute_error(svc.predict(X_cv), Y_cv)); \n",
    "    if plot:\n",
    "        p.plot(possible_C, C_error_train, label = 'train');\n",
    "        p.plot(possible_C, C_error_cv, label = 'cv'); \n",
    "        p.xlabel(\"C value (1/lambda)\")\n",
    "        p.ylabel(\"Mean Absolute Error\")\n",
    "        p.legend()\n",
    "        p.show()\n",
    "    C_min = possible_C[np.argmin(C_error_cv)]\n",
    "    return C_min\n",
    "\n",
    "C_min = optimize_c_svc(possible_C, X_train, Y_train, X_cv, Y_cv)\n",
    "print C_min"
   ]
  },
  {
   "cell_type": "code",
   "execution_count": 31,
   "metadata": {
    "collapsed": false
   },
   "outputs": [
    {
     "data": {
      "image/png": "[encoded data removed]",
      "text/plain": [
       "<matplotlib.figure.Figure at 0x10fb9cc50>"
      ]
     },
     "metadata": {},
     "output_type": "display_data"
    },
    {
     "name": "stdout",
     "output_type": "stream",
     "text": [
      "0.19730941704 0.184684684685 0.714285714286 0.740585774059\n"
     ]
    }
   ],
   "source": [
    "cv_error, train_error, f1_cv, f1_train = error_vs_m_svc(X_train, Y_train, X_cv, Y_cv, C=C_min)\n",
    "print cv_error, train_error, f1_cv, f1_train"
   ]
  },
  {
   "cell_type": "markdown",
   "metadata": {
    "collapsed": true
   },
   "source": [
    "## 4. Making the submission file \n",
    "### 4.1 Choosing which method to use\n",
    "It's pretty clear the SVM method is the way to go here. \n",
    "### 4.2 Making the submission file"
   ]
  },
  {
   "cell_type": "code",
   "execution_count": 32,
   "metadata": {
    "collapsed": false
   },
   "outputs": [
    {
     "data": {
      "text/html": [
       "<div>\n",
       "<table border=\"1\" class=\"dataframe\">\n",
       "  <thead>\n",
       "    <tr style=\"text-align: right;\">\n",
       "      <th></th>\n",
       "      <th>Pclass</th>\n",
       "      <th>Sex</th>\n",
       "      <th>Age</th>\n",
       "      <th>SibSp</th>\n",
       "      <th>Parch</th>\n",
       "      <th>Fare</th>\n",
       "      <th>Embarked</th>\n",
       "      <th>StringTicketsSplit</th>\n",
       "    </tr>\n",
       "  </thead>\n",
       "  <tbody>\n",
       "    <tr>\n",
       "      <th>0</th>\n",
       "      <td>3</td>\n",
       "      <td>0</td>\n",
       "      <td>0.809091</td>\n",
       "      <td>0</td>\n",
       "      <td>0</td>\n",
       "      <td>0.078140</td>\n",
       "      <td>0.9</td>\n",
       "      <td>0.202893</td>\n",
       "    </tr>\n",
       "    <tr>\n",
       "      <th>1</th>\n",
       "      <td>3</td>\n",
       "      <td>1</td>\n",
       "      <td>0.955995</td>\n",
       "      <td>1</td>\n",
       "      <td>0</td>\n",
       "      <td>0.076522</td>\n",
       "      <td>0.6</td>\n",
       "      <td>0.213328</td>\n",
       "    </tr>\n",
       "    <tr>\n",
       "      <th>2</th>\n",
       "      <td>2</td>\n",
       "      <td>0</td>\n",
       "      <td>1.132279</td>\n",
       "      <td>0</td>\n",
       "      <td>0</td>\n",
       "      <td>0.081767</td>\n",
       "      <td>0.9</td>\n",
       "      <td>0.173669</td>\n",
       "    </tr>\n",
       "    <tr>\n",
       "      <th>3</th>\n",
       "      <td>3</td>\n",
       "      <td>0</td>\n",
       "      <td>0.720948</td>\n",
       "      <td>0</td>\n",
       "      <td>0</td>\n",
       "      <td>0.079767</td>\n",
       "      <td>0.6</td>\n",
       "      <td>0.197813</td>\n",
       "    </tr>\n",
       "    <tr>\n",
       "      <th>4</th>\n",
       "      <td>3</td>\n",
       "      <td>1</td>\n",
       "      <td>0.662187</td>\n",
       "      <td>1</td>\n",
       "      <td>1</td>\n",
       "      <td>0.086842</td>\n",
       "      <td>0.6</td>\n",
       "      <td>1.096188</td>\n",
       "    </tr>\n",
       "  </tbody>\n",
       "</table>\n",
       "</div>"
      ],
      "text/plain": [
       "   Pclass  Sex       Age  SibSp  Parch      Fare  Embarked  StringTicketsSplit\n",
       "0       3    0  0.809091      0      0  0.078140       0.9            0.202893\n",
       "1       3    1  0.955995      1      0  0.076522       0.6            0.213328\n",
       "2       2    0  1.132279      0      0  0.081767       0.9            0.173669\n",
       "3       3    0  0.720948      0      0  0.079767       0.6            0.197813\n",
       "4       3    1  0.662187      1      1  0.086842       0.6            1.096188"
      ]
     },
     "execution_count": 32,
     "metadata": {},
     "output_type": "execute_result"
    }
   ],
   "source": [
    "#First, I need to make an X file for the test data\n",
    "X_test = test.iloc[:,[1,3,4,5,6,8,10,11]];\n",
    "X_test.head()"
   ]
  },
  {
   "cell_type": "code",
   "execution_count": 33,
   "metadata": {
    "collapsed": false
   },
   "outputs": [
    {
     "data": {
      "text/plain": [
       "array([0, 1, 0, 0, 1, 0, 1, 0, 1, 0, 0, 0, 1, 0, 1, 1, 0, 0, 1, 1, 0, 0, 1,\n",
       "       0, 1, 0, 1, 0, 0, 0, 0, 0, 1, 1, 0, 0, 1, 1, 0, 0, 0, 0, 0, 1, 1, 0,\n",
       "       0, 0, 1, 1, 0, 0, 1, 1, 0, 0, 0, 0, 0, 1, 0, 0, 0, 1, 0, 1, 1, 0, 0,\n",
       "       0, 1, 0, 1, 0, 1, 0, 0, 1, 0, 1, 0, 0, 0, 0, 0, 0, 1, 1, 1, 0, 1, 0,\n",
       "       1, 0, 0, 0, 1, 0, 1, 0, 1, 0, 0, 0, 1, 0, 0, 0, 0, 0, 0, 1, 1, 1, 1,\n",
       "       0, 0, 1, 0, 1, 1, 0, 1, 0, 0, 1, 0, 1, 0, 0, 0, 0, 0, 0, 0, 0, 0, 0,\n",
       "       1, 0, 0, 1, 0, 0, 0, 0, 0, 0, 0, 0, 1, 0, 0, 1, 0, 0, 1, 1, 0, 1, 1,\n",
       "       0, 1, 0, 0, 1, 0, 0, 1, 1, 0, 0, 0, 0, 0, 1, 1, 0, 1, 1, 0, 0, 1, 0,\n",
       "       1, 0, 1, 0, 0, 0, 0, 0, 0, 0, 0, 0, 0, 1, 0, 1, 1, 0, 0, 1, 0, 0, 1,\n",
       "       0, 1, 0, 0, 0, 0, 1, 0, 0, 1, 0, 1, 0, 1, 0, 1, 0, 1, 1, 0, 1, 0, 0,\n",
       "       0, 1, 0, 0, 0, 0, 0, 0, 1, 1, 1, 1, 0, 0, 0, 0, 1, 0, 1, 1, 1, 0, 0,\n",
       "       0, 0, 0, 0, 0, 1, 0, 0, 0, 1, 1, 0, 0, 0, 0, 1, 0, 0, 0, 1, 1, 0, 1,\n",
       "       0, 0, 0, 0, 1, 0, 1, 1, 1, 0, 0, 0, 0, 0, 0, 1, 0, 0, 0, 0, 1, 0, 0,\n",
       "       0, 0, 0, 0, 0, 1, 1, 0, 0, 0, 1, 0, 0, 0, 1, 1, 1, 0, 0, 0, 0, 0, 0,\n",
       "       0, 0, 1, 0, 1, 0, 0, 0, 1, 0, 0, 1, 0, 0, 0, 0, 0, 0, 0, 0, 0, 1, 0,\n",
       "       1, 0, 1, 0, 1, 1, 0, 0, 0, 1, 0, 1, 0, 0, 1, 0, 1, 1, 0, 1, 0, 0, 1,\n",
       "       1, 0, 0, 1, 0, 0, 1, 1, 1, 0, 0, 0, 0, 0, 1, 1, 0, 1, 0, 0, 0, 0, 0,\n",
       "       1, 0, 0, 0, 1, 0, 1, 0, 0, 1, 0, 1, 0, 0, 0, 0, 0, 1, 1, 1, 1, 1, 0,\n",
       "       1, 0, 0, 0])"
      ]
     },
     "execution_count": 33,
     "metadata": {},
     "output_type": "execute_result"
    }
   ],
   "source": [
    "#Making the model, and training it \n",
    "svc = svm.SVC(C = C_min)\n",
    "svc.fit(X_train, Y_train);\n",
    "\n",
    "#Predicting the y values \n",
    "Y_test = svc.predict(X_test)\n",
    "\n",
    "Y_test"
   ]
  },
  {
   "cell_type": "code",
   "execution_count": 34,
   "metadata": {
    "collapsed": false
   },
   "outputs": [
    {
     "data": {
      "text/html": [
       "<div>\n",
       "<table border=\"1\" class=\"dataframe\">\n",
       "  <thead>\n",
       "    <tr style=\"text-align: right;\">\n",
       "      <th></th>\n",
       "      <th>PassengerId</th>\n",
       "      <th>Survived</th>\n",
       "      <th>Predicted</th>\n",
       "    </tr>\n",
       "  </thead>\n",
       "  <tbody>\n",
       "    <tr>\n",
       "      <th>0</th>\n",
       "      <td>892</td>\n",
       "      <td>0</td>\n",
       "      <td>0</td>\n",
       "    </tr>\n",
       "    <tr>\n",
       "      <th>1</th>\n",
       "      <td>893</td>\n",
       "      <td>1</td>\n",
       "      <td>1</td>\n",
       "    </tr>\n",
       "    <tr>\n",
       "      <th>2</th>\n",
       "      <td>894</td>\n",
       "      <td>0</td>\n",
       "      <td>0</td>\n",
       "    </tr>\n",
       "    <tr>\n",
       "      <th>3</th>\n",
       "      <td>895</td>\n",
       "      <td>0</td>\n",
       "      <td>0</td>\n",
       "    </tr>\n",
       "    <tr>\n",
       "      <th>4</th>\n",
       "      <td>896</td>\n",
       "      <td>1</td>\n",
       "      <td>1</td>\n",
       "    </tr>\n",
       "  </tbody>\n",
       "</table>\n",
       "</div>"
      ],
      "text/plain": [
       "   PassengerId  Survived  Predicted\n",
       "0          892         0          0\n",
       "1          893         1          1\n",
       "2          894         0          0\n",
       "3          895         0          0\n",
       "4          896         1          1"
      ]
     },
     "execution_count": 34,
     "metadata": {},
     "output_type": "execute_result"
    }
   ],
   "source": [
    "submission = pd.read_csv(\"gender_submission.csv\")\n",
    "submission[\"Predicted\"] = Y_test\n",
    "submission.head()"
   ]
  },
  {
   "cell_type": "code",
   "execution_count": 35,
   "metadata": {
    "collapsed": false
   },
   "outputs": [
    {
     "data": {
      "text/plain": [
       "Int64Index([69, 132, 140, 188, 214, 365], dtype='int64')"
      ]
     },
     "execution_count": 35,
     "metadata": {},
     "output_type": "execute_result"
    }
   ],
   "source": [
    "row_ids = submission[submission[\"Predicted\"] != submission[\"Survived\"]].index\n",
    "row_ids"
   ]
  },
  {
   "cell_type": "code",
   "execution_count": 36,
   "metadata": {
    "collapsed": false
   },
   "outputs": [],
   "source": [
    "my_submission = pd.DataFrame(submission.PassengerId)\n",
    "my_submission[\"Survived\"] = Y_test\n",
    "my_submission.head()\n",
    "\n",
    "my_submission.to_csv('submission6.csv',index =False, encoding = 'utf-8')"
   ]
  },
  {
   "cell_type": "code",
   "execution_count": null,
   "metadata": {
    "collapsed": true
   },
   "outputs": [],
   "source": []
  }
 ],
 "metadata": {
  "kernelspec": {
   "display_name": "Python 2",
   "language": "python",
   "name": "python2"
  },
  "language_info": {
   "codemirror_mode": {
    "name": "ipython",
    "version": 2
   },
   "file_extension": ".py",
   "mimetype": "text/x-python",
   "name": "python",
   "nbconvert_exporter": "python",
   "pygments_lexer": "ipython2",
   "version": "2.7.13"
  }
 },
 "nbformat": 4,
 "nbformat_minor": 0
}
